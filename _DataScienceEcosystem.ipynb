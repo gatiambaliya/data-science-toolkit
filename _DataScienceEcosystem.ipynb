{
 "cells": [
  {
   "cell_type": "markdown",
   "id": "f95e49d7-d00f-45f1-8374-aa8c6db03fbf",
   "metadata": {},
   "source": [
    "<h1> Data Science Tools and Ecosystem </h1>"
   ]
  },
  {
   "cell_type": "markdown",
   "id": "ff92312d-1129-4674-b983-97cf4eedb355",
   "metadata": {},
   "source": [
    "In this notebook, Data Science Tools and Ecosystem are summarized."
   ]
  },
  {
   "cell_type": "markdown",
   "id": "8d1e9a77-6493-415f-aa4e-0df7169ce7f4",
   "metadata": {},
   "source": [
    "<b> Objectives:</b>\n",
    "<ul> \n",
    "    <li> data science languages </li>\n",
    "    <li> open source tools for data science </li>\n",
    "    <li> libraries for data science </li>\n",
    "</ul>"
   ]
  },
  {
   "cell_type": "markdown",
   "id": "968603d8-015e-47a1-a9ee-5cf4ffae519d",
   "metadata": {},
   "source": [
    "Some of the popular languages that Data Scientists use are:\n",
    "<ol> \n",
    "    <li> Python </li>\n",
    "    <li> R </li>\n",
    "    <li> Java </li>\n",
    "</ol>"
   ]
  },
  {
   "cell_type": "markdown",
   "id": "d3446a57-8a73-4c91-9413-a0064544a710",
   "metadata": {},
   "source": [
    "Some of the commonly used libraries used by Data Scientists include:\n",
    "<ol>\n",
    "    <li> TensorFlow </li>\n",
    "    <li> NumPy </li>\n",
    "    <li> SciPy </li>\n",
    "</ol>"
   ]
  },
  {
   "cell_type": "markdown",
   "id": "ef2c5556-d365-4c22-bb4c-ca6d40e1dd38",
   "metadata": {},
   "source": [
    "<table>\n",
    "    <tr>\n",
    "        <th> <b> Data Science Tools </b> </th>\n",
    "    </tr>\n",
    "    <tr> \n",
    "        <th> RStudio </th>\n",
    "    </tr>\n",
    "    <tr> \n",
    "        <th> Apache Spark </th>\n",
    "    </tr>\n",
    "    <tr> \n",
    "        <th> TensorFlow </th>\n",
    "    </tr>\n",
    "</table>"
   ]
  },
  {
   "cell_type": "markdown",
   "id": "d2c2bd10-0e45-4f57-b0bf-a882d4ee92ed",
   "metadata": {},
   "source": [
    "<h3> Below are a few examples of evaluating arithmetic expressions in Python </h3>"
   ]
  },
  {
   "cell_type": "code",
   "execution_count": 4,
   "id": "4725ea35-3d1d-4f70-a83a-d646107c8227",
   "metadata": {},
   "outputs": [
    {
     "data": {
      "text/plain": [
       "17"
      ]
     },
     "execution_count": 4,
     "metadata": {},
     "output_type": "execute_result"
    }
   ],
   "source": [
    "#  This a simple arithmetic expression to mutiply then add integers\n",
    "(3*4)+5"
   ]
  },
  {
   "cell_type": "code",
   "execution_count": 5,
   "id": "7eaeceb2-99fd-432c-a063-7101f5e941c4",
   "metadata": {},
   "outputs": [
    {
     "data": {
      "text/plain": [
       "3.3333333333333335"
      ]
     },
     "execution_count": 5,
     "metadata": {},
     "output_type": "execute_result"
    }
   ],
   "source": [
    "# this will convert 200 minutes to hours by diving by 60\n",
    "200/60"
   ]
  },
  {
   "cell_type": "markdown",
   "id": "f507cd4d-c113-4c6c-9c97-6f33dcd3e12b",
   "metadata": {},
   "source": [
    "<h2> Author </h2>\n",
    "Gati Ambaliya "
   ]
  }
 ],
 "metadata": {
  "kernelspec": {
   "display_name": "Python",
   "language": "python",
   "name": "conda-env-python-py"
  },
  "language_info": {
   "codemirror_mode": {
    "name": "ipython",
    "version": 3
   },
   "file_extension": ".py",
   "mimetype": "text/x-python",
   "name": "python",
   "nbconvert_exporter": "python",
   "pygments_lexer": "ipython3",
   "version": "3.7.12"
  }
 },
 "nbformat": 4,
 "nbformat_minor": 5
}
